{
 "cells": [
  {
   "cell_type": "code",
   "execution_count": 1,
   "metadata": {
    "collapsed": true
   },
   "outputs": [],
   "source": [
    "import math\n",
    "import pandas as pd\n",
    "import numpy as np\n",
    "import matplotlib.pyplot as plt"
   ]
  },
  {
   "cell_type": "code",
   "execution_count": 2,
   "metadata": {
    "collapsed": true
   },
   "outputs": [],
   "source": [
    "%matplotlib inline"
   ]
  },
  {
   "cell_type": "code",
   "execution_count": 3,
   "metadata": {
    "collapsed": true
   },
   "outputs": [],
   "source": [
    "cons = pd.read_csv('complaints_dec_2014.csv')"
   ]
  },
  {
   "cell_type": "code",
   "execution_count": 41,
   "metadata": {
    "collapsed": false
   },
   "outputs": [
    {
     "data": {
      "text/plain": [
       "0                   Ad Astra Recovery Services Inc\n",
       "1                  Unique Management Services, Inc\n",
       "2                                 CL Holdings, LLC\n",
       "3                   Enhanced Recovery Company, LLC\n",
       "4                       Enhanced Acquisitions, LLC\n",
       "5               Credit Systems International, Inc.\n",
       "6                                             Amex\n",
       "7                             Speedy Cash Holdings\n",
       "8                                       Afni, Inc.\n",
       "9                   Enhanced Recovery Company, LLC\n",
       "10                                        Discover\n",
       "11                                 Bank of America\n",
       "12                                      Afni, Inc.\n",
       "13                           Triple AC Resolutions\n",
       "14                                 ATG Credit, LLC\n",
       "15                Certified Recovery Systems, Inc.\n",
       "16                                         Equifax\n",
       "17                  Enhanced Recovery Company, LLC\n",
       "18       HCFS Health Care Financial Services, Inc.\n",
       "19                                        Discover\n",
       "20                                     Wells Fargo\n",
       "21                     First Advantage Corporation\n",
       "22                                        Experian\n",
       "23                                           Ocwen\n",
       "24                             Nationstar Mortgage\n",
       "25                                     Wells Fargo\n",
       "26                                   Western Union\n",
       "27                                  JPMorgan Chase\n",
       "28                                     Wells Fargo\n",
       "29               Phillips & Cohen Associates, Ltd.\n",
       "                           ...                    \n",
       "11513                               JPMorgan Chase\n",
       "11514                                      Equifax\n",
       "11515                                   TransUnion\n",
       "11516                                     Experian\n",
       "11517                       Preferred Credit, Inc.\n",
       "11518                              Bank of America\n",
       "11519                              Bank of America\n",
       "11520                                     Experian\n",
       "11521                                      Equifax\n",
       "11522                                   TransUnion\n",
       "11523                                     M&T Bank\n",
       "11524                                     Citibank\n",
       "11525                                     PNC Bank\n",
       "11526             Credit Regulating Services, Inc.\n",
       "11527                                      Equifax\n",
       "11528                                   TransUnion\n",
       "11529                                     Experian\n",
       "11530                                        Ocwen\n",
       "11531                              Bank of America\n",
       "11532                                     Citibank\n",
       "11533                               JPMorgan Chase\n",
       "11534                                     PNC Bank\n",
       "11535                        Stellar Recovery Inc.\n",
       "11536            Interstate Recovery Service, Inc.\n",
       "11537                                     Experian\n",
       "11538                             Servis One, Inc.\n",
       "11539                                     Experian\n",
       "11540                                   TransUnion\n",
       "11541                                     Citibank\n",
       "11542                          Nationstar Mortgage\n",
       "Name: Company, dtype: object"
      ]
     },
     "execution_count": 41,
     "metadata": {},
     "output_type": "execute_result"
    }
   ],
   "source": [
    "cons[\"Company\"]"
   ]
  },
  {
   "cell_type": "code",
   "execution_count": 11,
   "metadata": {
    "collapsed": false
   },
   "outputs": [],
   "source": [
    "prod_dict = {}\n",
    "for x in cons['Product']:\n",
    "    if x not in prod_dict:\n",
    "        prod_dict[x] = 1\n",
    "    else:\n",
    "        prod_dict[x] += 1"
   ]
  },
  {
   "cell_type": "raw",
   "metadata": {},
   "source": []
  },
  {
   "cell_type": "code",
   "execution_count": 12,
   "metadata": {
    "collapsed": false
   },
   "outputs": [
    {
     "name": "stdout",
     "output_type": "stream",
     "text": [
      "{'Consumer loan': 578, 'Credit card': 1100, 'Payday loan': 141, 'Credit reporting': 2113, 'Money transfers': 107, 'Other financial service': 14, 'Debt collection': 2942, 'Mortgage': 3002, 'Bank account or service': 1136, 'Student loan': 340, 'Prepaid card': 70}\n"
     ]
    }
   ],
   "source": [
    "print(prod_dict)"
   ]
  },
  {
   "cell_type": "code",
   "execution_count": 39,
   "metadata": {
    "collapsed": false
   },
   "outputs": [
    {
     "data": {
      "image/png": "[encoded data removed]",
      "text/plain": [
       "<matplotlib.figure.Figure at 0x106289278>"
      ]
     },
     "metadata": {},
     "output_type": "display_data"
    }
   ],
   "source": [
    "n_groups = 11\n",
    "index = np.arange(n_groups)\n",
    "bar_width = .35\n",
    "x_val_prod = []\n",
    "y_val_prod = []\n",
    "for x, y in prod_dict.items():\n",
    "    x_val_prod.append(x)\n",
    "    y_val_prod.append(y)\n",
    "    \n",
    "plt.bar(index, y_val_prod)\n",
    "plt.title(\"Incidences of Complaints Across Product Types\")\n",
    "plt.ylabel(\"Number of Incidences\")\n",
    "plt.xlabel(\"Products\")\n",
    "plt.xticks(index)\n",
    "plt.show()"
   ]
  },
  {
   "cell_type": "code",
   "execution_count": 43,
   "metadata": {
    "collapsed": false
   },
   "outputs": [],
   "source": [
    "company_dict = {}\n",
    "for x in cons[\"Company\"]:\n",
    "    if x not in company_dict:\n",
    "        company_dict[x] = 1\n",
    "    else:\n",
    "        company_dict[x] += 1"
   ]
  },
  {
   "cell_type": "code",
   "execution_count": 59,
   "metadata": {
    "collapsed": false
   },
   "outputs": [],
   "source": [
    "sorted_comp = sorted(company_dict.items(), key = lambda c: c[-1], reverse = True)"
   ]
  },
  {
   "cell_type": "raw",
   "metadata": {},
   "source": []
  },
  {
   "cell_type": "code",
   "execution_count": 64,
   "metadata": {
    "collapsed": false
   },
   "outputs": [
    {
     "name": "stdout",
     "output_type": "stream",
     "text": [
      "[('Bank of America', 766), ('Equifax', 737), ('Experian', 675), ('TransUnion', 604), ('Wells Fargo', 598), ('JPMorgan Chase', 545), ('Ocwen', 408), ('Citibank', 403), ('Nationstar Mortgage', 357), ('Capital One', 252)]\n"
     ]
    }
   ],
   "source": [
    "top_10 = sorted_comp[:10]\n",
    "print(top_10)"
   ]
  },
  {
   "cell_type": "code",
   "execution_count": 65,
   "metadata": {
    "collapsed": false
   },
   "outputs": [
    {
     "data": {
      "image/png": "[encoded data removed]",
      "text/plain": [
       "<matplotlib.figure.Figure at 0x10671f1d0>"
      ]
     },
     "metadata": {},
     "output_type": "display_data"
    }
   ],
   "source": [
    "n_groups = 10\n",
    "index = np.arange(n_groups)\n",
    "comp_x = []\n",
    "comp_y = []\n",
    "for x, y in top_10:\n",
    "    comp_x.append(x)\n",
    "    comp_y.append(y)\n",
    "\n",
    "plt.bar(index, comp_y)\n",
    "plt.title(\"Top Ten Companies in Number of Complaints\")\n",
    "plt.ylabel(\"Number of Incidences\")\n",
    "plt.xlabel(\"Companies\")\n",
    "plt.xticks(index)\n",
    "plt.show()"
   ]
  },
  {
   "cell_type": "code",
   "execution_count": null,
   "metadata": {
    "collapsed": true
   },
   "outputs": [],
   "source": []
  }
 ],
 "metadata": {
  "kernelspec": {
   "display_name": "Python 3",
   "language": "python",
   "name": "python3"
  },
  "language_info": {
   "codemirror_mode": {
    "name": "ipython",
    "version": 3
   },
   "file_extension": ".py",
   "mimetype": "text/x-python",
   "name": "python",
   "nbconvert_exporter": "python",
   "pygments_lexer": "ipython3",
   "version": "3.4.3"
  }
 },
 "nbformat": 4,
 "nbformat_minor": 0
}
